{
  "nbformat": 4,
  "nbformat_minor": 0,
  "metadata": {
    "colab": {
      "name": "torrents to one drive.ipynb",
      "provenance": [],
      "collapsed_sections": []
    },
    "kernelspec": {
      "name": "python3",
      "display_name": "Python 3"
    }
  },
  "cells": [
    {
      "cell_type": "markdown",
      "metadata": {
        "id": "aQuWDmfm9YOi",
        "colab_type": "text"
      },
      "source": [
        "# Torrents To Microsft One Drive Downloader"
      ]
    },
    {
      "cell_type": "markdown",
      "metadata": {
        "id": "FexiyATtNwTG",
        "colab_type": "text"
      },
      "source": [
        "###Install Dependencies\n",
        "https://www.libtorrent.org/<br>\n",
        "https://rclone.org/"
      ]
    },
    {
      "cell_type": "code",
      "metadata": {
        "colab_type": "code",
        "id": "m6hF0emftx4h",
        "colab": {}
      },
      "source": [
        "##!python -m pip install --upgrade pip setuptools wheel\n",
        "!python -m pip install lbry-libtorrent\n",
        "!wget https://downloads.rclone.org/v1.52.1/rclone-v1.52.1-linux-amd64.deb\n",
        "!apt install ./rclone-v1.52.1-linux-amd64.deb"
      ],
      "execution_count": 0,
      "outputs": []
    },
    {
      "cell_type": "markdown",
      "metadata": {
        "id": "u6b8Q4EjIowT",
        "colab_type": "text"
      },
      "source": [
        "### Authenticate One Drive"
      ]
    },
    {
      "cell_type": "code",
      "metadata": {
        "id": "dT1VHtxSIu8g",
        "colab_type": "code",
        "colab": {}
      },
      "source": [
        "!rclone config"
      ],
      "execution_count": 0,
      "outputs": []
    },
    {
      "cell_type": "markdown",
      "metadata": {
        "id": "gi5Cx03cLWYE",
        "colab_type": "text"
      },
      "source": [
        "### Mount One Drive\n",
        "To stream files we need to mount One Drive."
      ]
    },
    {
      "cell_type": "code",
      "metadata": {
        "id": "dWSuoVQ-LU4M",
        "colab_type": "code",
        "colab": {}
      },
      "source": [
        "!mkdir onedrive\n",
        "!nohup rclone --vfs-cache-mode writes mount onedrive: ./onedrive &"
      ],
      "execution_count": 0,
      "outputs": []
    },
    {
      "cell_type": "markdown",
      "metadata": {
        "id": "_3OSW_tBVrz6",
        "colab_type": "text"
      },
      "source": [
        "###Just check the drive is mounted"
      ]
    },
    {
      "cell_type": "code",
      "metadata": {
        "id": "rvxk-3S5Uwo3",
        "colab_type": "code",
        "colab": {}
      },
      "source": [
        "!ls ./onedrive"
      ],
      "execution_count": 0,
      "outputs": []
    },
    {
      "cell_type": "markdown",
      "metadata": {
        "id": "j-ILSl_YOGRS",
        "colab_type": "text"
      },
      "source": [
        "### Paste the Magnet Link here and press enter to start download\n",
        "Variable **link** stores the link string."
      ]
    },
    {
      "cell_type": "code",
      "metadata": {
        "colab_type": "code",
        "id": "b09BxnANO2ep",
        "colab": {}
      },
      "source": [
        "!mkdir Torrent\n",
        "\n",
        "link = input(\"PASTE TORRENT/MAGNET LINK HERE \\n\") # PASTE TORRENT/MAGNET LINK HERE\n",
        "\n",
        "import libtorrent as lt\n",
        "import time\n",
        "import datetime\n",
        "\n",
        "ses = lt.session()\n",
        "ses.listen_on(6881, 6891)\n",
        "params = {\n",
        "    'save_path': './Torrent/',\n",
        "    'storage_mode': lt.storage_mode_t(2)}\n",
        "\n",
        "print(link)\n",
        "\n",
        "handle = lt.add_magnet_uri(ses, link, params)\n",
        "ses.start_dht()\n",
        "\n",
        "begin = time.time()\n",
        "print(datetime.datetime.now())\n",
        "\n",
        "print ('Downloading Metadata...')\n",
        "while (not handle.has_metadata()):\n",
        "    time.sleep(1)\n",
        "print ('Got Metadata, Starting Torrent Download...')\n",
        "\n",
        "print(\"Starting\", handle.name())\n",
        "\n",
        "while (handle.status().state != lt.torrent_status.seeding):\n",
        "    s = handle.status()\n",
        "    state_str = ['queued', 'checking', 'downloading metadata', \\\n",
        "            'downloading', 'finished', 'seeding', 'allocating']\n",
        "    print ('%.2f%% complete (down: %.1f kb/s up: %.1f kB/s peers: %d) %s ' % \\\n",
        "            (s.progress * 100, s.download_rate / 1000, s.upload_rate / 1000, \\\n",
        "            s.num_peers, state_str[s.state]))\n",
        "    time.sleep(5)\n",
        "\n",
        "end = time.time()\n",
        "print(handle.name(), \"COMPLETE\")\n",
        "\n",
        "print(\"Elapsed Time: \",int((end-begin)//60),\"min :\", int((end-begin)%60), \"sec\")\n",
        "\n",
        "print(datetime.datetime.now())"
      ],
      "execution_count": 0,
      "outputs": []
    },
    {
      "cell_type": "markdown",
      "metadata": {
        "id": "RCbkGqNIdrP-",
        "colab_type": "text"
      },
      "source": [
        "###Copy the downloaded torrent to One Drive"
      ]
    },
    {
      "cell_type": "code",
      "metadata": {
        "id": "r_1hfrLYcbSa",
        "colab_type": "code",
        "colab": {}
      },
      "source": [
        "!cp -r Torrent/* onedrive/"
      ],
      "execution_count": 0,
      "outputs": []
    }
  ]
}
